{
 "cells": [
  {
   "cell_type": "markdown",
   "metadata": {
    "button": false,
    "deletable": true,
    "new_sheet": false,
    "run_control": {
     "read_only": false
    }
   },
   "source": [
    " <font size=\"6\">  Image segmentation training - Mask R-CNN </font> \n",
    "\n",
    "---"
   ]
  },
  {
   "cell_type": "markdown",
   "metadata": {},
   "source": [
    "In this notebook, we will show how to train a deep learning model to do instance segmentation"
   ]
  },
  {
   "cell_type": "markdown",
   "metadata": {
    "button": false,
    "deletable": true,
    "new_sheet": false,
    "run_control": {
     "read_only": false
    }
   },
   "source": [
    "## Set path and Load library"
   ]
  },
  {
   "cell_type": "code",
   "execution_count": 2,
   "metadata": {
    "button": false,
    "collapsed": false,
    "deletable": true,
    "jupyter": {
     "outputs_hidden": false
    },
    "new_sheet": false,
    "run_control": {
     "read_only": false
    }
   },
   "outputs": [
    {
     "name": "stderr",
     "output_type": "stream",
     "text": [
      "Using TensorFlow backend.\n"
     ]
    }
   ],
   "source": [
    "from mrcnn.main import *\n",
    "# Set path to Mask RCNN folder\n",
    "ROOT_DIR = os.path.abspath(\"/home/ubuntu/github/MaskRCNN\")\n",
    "# Directory to save logs and trained model\n",
    "MODEL_DIR = os.path.join(ROOT_DIR, \"logs\")"
   ]
  },
  {
   "cell_type": "code",
   "execution_count": 3,
   "metadata": {
    "button": false,
    "deletable": true,
    "new_sheet": false,
    "run_control": {
     "read_only": false
    }
   },
   "outputs": [],
   "source": [
    "import warnings\n",
    "warnings.filterwarnings(\"ignore\")\n",
    "%matplotlib inline \n",
    "from mrcnn.config import Config\n",
    "COCO_MODEL_PATH = os.path.join(ROOT_DIR, \"mask_rcnn_coco.h5\")\n",
    "if not os.path.exists(COCO_MODEL_PATH):\n",
    "    utils.download_trained_weights(COCO_MODEL_PATH)"
   ]
  },
  {
   "cell_type": "markdown",
   "metadata": {
    "button": false,
    "deletable": true,
    "new_sheet": false,
    "run_control": {
     "read_only": false
    }
   },
   "source": [
    "## Load data"
   ]
  },
  {
   "cell_type": "markdown",
   "metadata": {
    "button": false,
    "deletable": true,
    "new_sheet": false,
    "run_control": {
     "read_only": false
    }
   },
   "source": [
    "Input training and validation image path here. Validation dataset may be left blank. Note that all training images must be of equal size and square. The variable 'size' corresponds to the image shape: (size, size, 3). "
   ]
  },
  {
   "cell_type": "code",
   "execution_count": 4,
   "metadata": {
    "button": false,
    "deletable": true,
    "new_sheet": false,
    "run_control": {
     "read_only": false
    }
   },
   "outputs": [],
   "source": [
    "#Training images should be square\n",
    "size=400\n",
    "\n",
    "images = sorted((glob.glob(\"./MaskRCNN/train/*crop.png\")))\n",
    "labels = sorted((glob.glob(\"./MaskRCNN/train/*label.png\")))\n",
    "\n",
    "images_val = sorted((glob.glob(\"./MaskRCNN/val/*crop.png\")))\n",
    "labels_val = sorted((glob.glob(\"./MaskRCNN/val/*label.png\")))"
   ]
  },
  {
   "cell_type": "markdown",
   "metadata": {
    "button": false,
    "deletable": true,
    "new_sheet": false,
    "run_control": {
     "read_only": false
    }
   },
   "source": [
    "If validation dataset does not exist, fill it in with the same variables as the training dataset. Fields cannot be left blank."
   ]
  },
  {
   "cell_type": "markdown",
   "metadata": {
    "button": false,
    "deletable": true,
    "new_sheet": false,
    "run_control": {
     "read_only": false
    }
   },
   "source": [
    "## Set parameters for training"
   ]
  },
  {
   "cell_type": "markdown",
   "metadata": {},
   "source": [
    "Key parameter\n",
    "* GPU count\n",
    "* IMAGES_PER_GPU\n",
    "* DETECTION_MAX_INSTANCES: max instance in one image\n",
    "* IMAGE_MIN_DIM: random cropping will be performed on the input image to this size. I recommend 128 for 200X image.\n"
   ]
  },
  {
   "cell_type": "code",
   "execution_count": 9,
   "metadata": {
    "button": false,
    "collapsed": false,
    "deletable": true,
    "jupyter": {
     "outputs_hidden": false
    },
    "new_sheet": false,
    "run_control": {
     "read_only": false
    }
   },
   "outputs": [
    {
     "name": "stdout",
     "output_type": "stream",
     "text": [
      "\n",
      "Configurations:\n",
      "BACKBONE                       resnet50\n",
      "BACKBONE_STRIDES               [4, 8, 16, 32, 64]\n",
      "BATCH_SIZE                     2\n",
      "BBOX_STD_DEV                   [0.1 0.1 0.2 0.2]\n",
      "COMPUTE_BACKBONE_SHAPE         None\n",
      "DETECTION_MAX_INSTANCES        256\n",
      "DETECTION_MIN_CONFIDENCE       0.7\n",
      "DETECTION_NMS_THRESHOLD        0.3\n",
      "FPN_CLASSIF_FC_LAYERS_SIZE     1024\n",
      "GPU_COUNT                      1\n",
      "GRADIENT_CLIP_NORM             5.0\n",
      "IMAGES_PER_GPU                 2\n",
      "IMAGE_MAX_DIM                  128\n",
      "IMAGE_META_SIZE                14\n",
      "IMAGE_MIN_DIM                  128\n",
      "IMAGE_MIN_SCALE                0\n",
      "IMAGE_RESIZE_MODE              crop\n",
      "IMAGE_SHAPE                    [128 128   3]\n",
      "LEARNING_MOMENTUM              0.9\n",
      "LEARNING_RATE                  0.001\n",
      "LOSS_WEIGHTS                   {'rpn_class_loss': 1.0, 'rpn_bbox_loss': 1.0, 'mrcnn_class_loss': 1.0, 'mrcnn_bbox_loss': 1.0, 'mrcnn_mask_loss': 1.0}\n",
      "MASK_POOL_SIZE                 14\n",
      "MASK_SHAPE                     [28, 28]\n",
      "MAX_GT_INSTANCES               256\n",
      "MEAN_PIXEL                     [0 0 0]\n",
      "MINI_MASK_SHAPE                (56, 56)\n",
      "NAME                           cell\n",
      "NUM_CLASSES                    2\n",
      "POOL_SIZE                      7\n",
      "POST_NMS_ROIS_INFERENCE        1000\n",
      "POST_NMS_ROIS_TRAINING         2000\n",
      "ROI_POSITIVE_RATIO             0.33\n",
      "RPN_ANCHOR_RATIOS              [0.5, 1, 2]\n",
      "RPN_ANCHOR_SCALES              (8, 16, 32, 64, 128)\n",
      "RPN_ANCHOR_STRIDE              1\n",
      "RPN_BBOX_STD_DEV               [0.1 0.1 0.2 0.2]\n",
      "RPN_NMS_THRESHOLD              0.7\n",
      "RPN_TRAIN_ANCHORS_PER_IMAGE    256\n",
      "STEPS_PER_EPOCH                300\n",
      "TOP_DOWN_PYRAMID_SIZE          256\n",
      "TRAIN_BN                       False\n",
      "TRAIN_ROIS_PER_IMAGE           320\n",
      "USE_MINI_MASK                  True\n",
      "USE_RPN_ROIS                   True\n",
      "VALIDATION_STEPS               50\n",
      "WEIGHT_DECAY                   0.0001\n",
      "\n",
      "\n"
     ]
    }
   ],
   "source": [
    "class CellConfig(Config):\n",
    "    \"\"\"Configuration for training on the toy shapes dataset.\n",
    "    Derives from the base Config class and overrides values specific\n",
    "    to the toy shapes dataset.\n",
    "    \"\"\"\n",
    "    # Give the configuration a recognizable name\n",
    "    NAME = \"cell\"\n",
    "    BACKBONE = 'resnet50'\n",
    "    # Train on 1 GPU and 8 images per GPU. We can put multiple images on each\n",
    "    # GPU because the images are small. Batch size is 8 (GPUs * images/GPU).\n",
    "    GPU_COUNT = 1\n",
    "    IMAGES_PER_GPU = 2\n",
    "    #RPN_NMS_THRESHOLD = 0.8\n",
    "    DETECTION_MAX_INSTANCES = 256 #500\n",
    "    MAX_GT_INSTANCES = 256\n",
    "    # Number of classes (including background)\n",
    "    NUM_CLASSES = 1 + 1  # background + 1 cell\n",
    "    # Use small images for faster training. Set the limits of the small side\n",
    "    # the large side, and that determines the image shape.\n",
    "    IMAGE_MIN_DIM = 128\n",
    "    IMAGE_MAX_DIM = 128 #128\n",
    "    RPN_TRAIN_ANCHORS_PER_IMAGE = 256 #1024 #256 #1024 #256\n",
    "    IMAGE_RESIZE_MODE = 'crop'\n",
    "    ROI_POSITIVE_RATIO = 0.33\n",
    "    # Use smaller anchors because our image and objects are small\n",
    "    RPN_ANCHOR_SCALES = (8, 16, 32, 64, 128)  # anchor side in pixels\n",
    "    # Reduce training ROIs per image because the images are small and have\n",
    "    # few objects. Aim to allow ROI sampling to pick 33% positive ROIs.\n",
    "    TRAIN_ROIS_PER_IMAGE = 320 #1000 #320 #1000 #320 # 80\n",
    "    #LOSS_WEIGHTS  ={}\n",
    "    # Use a small epoch since the data is simple\n",
    "    STEPS_PER_EPOCH = 1000 #1000 (for a comprehensive training, 1000 is recommended)\n",
    "    # use small validation steps since the epoch is small\n",
    "    VALIDATION_STEPS =50# 10 #5\n",
    "    MEAN_PIXEL = np.array([0,0,0])  #([45,25,40]) # based on your own data\n",
    "\n",
    "    # ALSO CHANGED CONFIG.PY to change IMAGE SHAPE\n",
    "    \n",
    "    \n",
    "config = CellConfig()\n",
    "config.display()"
   ]
  },
  {
   "cell_type": "markdown",
   "metadata": {
    "button": false,
    "deletable": true,
    "new_sheet": false,
    "run_control": {
     "read_only": false
    }
   },
   "source": [
    "## Load data and configuration into model"
   ]
  },
  {
   "cell_type": "code",
   "execution_count": 10,
   "metadata": {
    "button": false,
    "collapsed": false,
    "deletable": true,
    "jupyter": {
     "outputs_hidden": false
    },
    "new_sheet": false,
    "run_control": {
     "read_only": false
    }
   },
   "outputs": [
    {
     "name": "stdout",
     "output_type": "stream",
     "text": [
      "Image Count: 1\n",
      "Class Count: 2\n",
      "  0. BG                                                \n",
      "  1. cell                                              \n"
     ]
    },
    {
     "data": {
      "image/png": "[encoded data removed]",
      "text/plain": [
       "<matplotlib.figure.Figure at 0x7fbb099adf60>"
      ]
     },
     "metadata": {
      "needs_background": "light"
     },
     "output_type": "display_data"
    }
   ],
   "source": [
    "config = CellConfig()\n",
    "#config.display()\n",
    "\n",
    "# Training dataset\n",
    "dataset_train = CellDataset()\n",
    "dataset_train.setImages(images)\n",
    "dataset_train.setLabels(labels)\n",
    "dataset_train.setSize(size)\n",
    "dataset_train.load_cells('dummy_path')\n",
    "dataset_train.prepare()\n",
    "\n",
    "#All entries must be nonzero!\n",
    "# Validation dataset\n",
    "dataset_val = CellDataset()\n",
    "dataset_val.setImages(images)\n",
    "dataset_val.setLabels(labels)\n",
    "dataset_val.setSize(size)\n",
    "dataset_val.load_cells('dummy_path')\n",
    "dataset_val.prepare()\n",
    "\n",
    "print(\"Image Count: {}\".format(len(dataset_train.image_ids)))\n",
    "print(\"Class Count: {}\".format(dataset_train.num_classes))\n",
    "for i, info in enumerate(dataset_train.class_info):\n",
    "    print(\"{:3}. {:50}\".format(i, info['name']))\n",
    "    \n",
    "for i in range(0,min(len(images),5)):\n",
    "    image = dataset_train.load_image(i)\n",
    "    mask, class_ids = dataset_train.load_mask(i)\n",
    "    visualize.display_top_masks(image, mask, class_ids, dataset_train.class_names)\n"
   ]
  },
  {
   "cell_type": "markdown",
   "metadata": {
    "button": false,
    "deletable": true,
    "new_sheet": false,
    "run_control": {
     "read_only": false
    }
   },
   "source": [
    "## Training configuration"
   ]
  },
  {
   "cell_type": "markdown",
   "metadata": {
    "button": false,
    "deletable": true,
    "new_sheet": false,
    "run_control": {
     "read_only": false
    }
   },
   "source": [
    "### Model backend and Pre-trained weights"
   ]
  },
  {
   "cell_type": "code",
   "execution_count": 11,
   "metadata": {
    "button": false,
    "collapsed": true,
    "deletable": true,
    "jupyter": {
     "outputs_hidden": true
    },
    "new_sheet": false,
    "run_control": {
     "read_only": false
    }
   },
   "outputs": [],
   "source": [
    "# Create model in training mode\n",
    "model = modellib.MaskRCNN(mode=\"training\", config=config,\n",
    "                          model_dir=MODEL_DIR)\n",
    "#Which weights to start with?\n",
    "init_with = \"imagnet\"  # imagenet, coco, or last\n",
    "\n",
    "if init_with == \"imagenet\":\n",
    "    model.load_weights(model.get_imagenet_weights(), by_name=True)\n",
    "elif init_with == \"coco\":\n",
    "    # Load weights trained on MS COCO, but skip layers that\n",
    "    # are different due to the different number of classes\n",
    "    # See README for instructions to download the COCO weights\n",
    "    model.load_weights(COCO_MODEL_PATH, by_name=True,\n",
    "                       exclude=[\"mrcnn_class_logits\", \"mrcnn_bbox_fc\", \n",
    "                                \"mrcnn_bbox\", \"mrcnn_mask\"])\n",
    "elif init_with == \"last\":\n",
    "    # Load the last model you trained and continue training\n",
    "    model.load_weights(model.find_last()[1], by_name=True)"
   ]
  },
  {
   "cell_type": "markdown",
   "metadata": {
    "button": false,
    "deletable": true,
    "new_sheet": false,
    "run_control": {
     "read_only": false
    }
   },
   "source": [
    "### Data Augmentation"
   ]
  },
  {
   "cell_type": "code",
   "execution_count": 12,
   "metadata": {
    "button": false,
    "collapsed": true,
    "deletable": true,
    "jupyter": {
     "outputs_hidden": true
    },
    "new_sheet": false,
    "run_control": {
     "read_only": false
    }
   },
   "outputs": [],
   "source": [
    "#Data Augmentation\n",
    "\n",
    "augmentation = iaa.SomeOf((0, 5), [\n",
    "        iaa.Fliplr(0.5),\n",
    "        iaa.Flipud(0.5),\n",
    "        iaa.OneOf([iaa.Affine(rotate=90),\n",
    "                   iaa.Affine(rotate=180),\n",
    "                   iaa.Affine(rotate=270)]),\n",
    "        iaa.Affine(rotate=(-90,90)),\n",
    "    iaa.Sometimes(0.2, iaa.GaussianBlur(sigma=(0.0,5.0)))\n",
    "    ,iaa.Sometimes(0.2, iaa.Affine(scale={\"x\": (0.7, 1.5), \"y\": (0.7, 1.5)})),\n",
    "    iaa.Sometimes(0.2,  iaa.Multiply((0.7, 1.5))),\n",
    "    iaa.Sometimes(0.1, iaa.Affine(shear=(-45, 45)))\n",
    "])\n"
   ]
  },
  {
   "cell_type": "code",
   "execution_count": null,
   "metadata": {
    "button": false,
    "collapsed": true,
    "deletable": true,
    "jupyter": {
     "outputs_hidden": true
    },
    "new_sheet": false,
    "run_control": {
     "read_only": false
    }
   },
   "outputs": [],
   "source": []
  },
  {
   "cell_type": "markdown",
   "metadata": {
    "button": false,
    "deletable": true,
    "new_sheet": false,
    "run_control": {
     "read_only": false
    }
   },
   "source": [
    "## Train"
   ]
  },
  {
   "cell_type": "markdown",
   "metadata": {
    "button": false,
    "deletable": true,
    "new_sheet": false,
    "run_control": {
     "read_only": false
    }
   },
   "source": [
    "### Train on the heads layers"
   ]
  },
  {
   "cell_type": "code",
   "execution_count": 13,
   "metadata": {
    "button": false,
    "collapsed": false,
    "deletable": true,
    "jupyter": {
     "outputs_hidden": false
    },
    "new_sheet": false,
    "run_control": {
     "read_only": false
    }
   },
   "outputs": [
    {
     "name": "stdout",
     "output_type": "stream",
     "text": [
      "WARNING:tensorflow:From /home/ubuntu/anaconda3/envs/github2/lib/python3.6/site-packages/tensorflow/contrib/learn/python/learn/datasets/base.py:198: retry (from tensorflow.contrib.learn.python.learn.datasets.base) is deprecated and will be removed in a future version.\n",
      "Instructions for updating:\n",
      "Use the retry module or similar alternatives.\n",
      "\n",
      "Starting at epoch 0. LR=0.001\n",
      "\n",
      "Checkpoint Path: /home/ubuntu/github/MaskRCNN/logs/cell20191219T1724/mask_rcnn_cell_{epoch:04d}.h5\n",
      "Selecting layers to train\n",
      "fpn_c5p5               (Conv2D)\n",
      "fpn_c4p4               (Conv2D)\n",
      "fpn_c3p3               (Conv2D)\n",
      "fpn_c2p2               (Conv2D)\n",
      "fpn_p5                 (Conv2D)\n",
      "fpn_p2                 (Conv2D)\n",
      "fpn_p3                 (Conv2D)\n",
      "fpn_p4                 (Conv2D)\n",
      "In model:  rpn_model\n",
      "    rpn_conv_shared        (Conv2D)\n",
      "    rpn_class_raw          (Conv2D)\n",
      "    rpn_bbox_pred          (Conv2D)\n",
      "mrcnn_mask_conv1       (TimeDistributed)\n",
      "mrcnn_mask_bn1         (TimeDistributed)\n",
      "mrcnn_mask_conv2       (TimeDistributed)\n",
      "mrcnn_mask_bn2         (TimeDistributed)\n",
      "mrcnn_class_conv1      (TimeDistributed)\n",
      "mrcnn_class_bn1        (TimeDistributed)\n",
      "mrcnn_mask_conv3       (TimeDistributed)\n",
      "mrcnn_mask_bn3         (TimeDistributed)\n",
      "mrcnn_class_conv2      (TimeDistributed)\n",
      "mrcnn_class_bn2        (TimeDistributed)\n",
      "mrcnn_mask_conv4       (TimeDistributed)\n",
      "mrcnn_mask_bn4         (TimeDistributed)\n",
      "mrcnn_bbox_fc          (TimeDistributed)\n",
      "mrcnn_mask_deconv      (TimeDistributed)\n",
      "mrcnn_class_logits     (TimeDistributed)\n",
      "mrcnn_mask             (TimeDistributed)\n",
      "Epoch 1/10\n",
      "300/300 [==============================] - 793s 3s/step - loss: 4.2064 - rpn_class_loss: 0.7209 - rpn_bbox_loss: 1.5385 - mrcnn_class_loss: 0.5210 - mrcnn_bbox_loss: 0.7903 - mrcnn_mask_loss: 0.6357 - val_loss: 3.1272 - val_rpn_class_loss: 0.3979 - val_rpn_bbox_loss: 0.9635 - val_mrcnn_class_loss: 0.5951 - val_mrcnn_bbox_loss: 0.5932 - val_mrcnn_mask_loss: 0.5774\n",
      "Epoch 2/10\n",
      "300/300 [==============================] - 738s 2s/step - loss: 3.1078 - rpn_class_loss: 0.4337 - rpn_bbox_loss: 0.9870 - mrcnn_class_loss: 0.5000 - mrcnn_bbox_loss: 0.6067 - mrcnn_mask_loss: 0.5805 - val_loss: 2.7847 - val_rpn_class_loss: 0.3201 - val_rpn_bbox_loss: 0.8847 - val_mrcnn_class_loss: 0.4717 - val_mrcnn_bbox_loss: 0.5537 - val_mrcnn_mask_loss: 0.5545\n",
      "Epoch 3/10\n",
      "300/300 [==============================] - 763s 3s/step - loss: 2.8210 - rpn_class_loss: 0.3816 - rpn_bbox_loss: 0.8684 - mrcnn_class_loss: 0.4620 - mrcnn_bbox_loss: 0.5511 - mrcnn_mask_loss: 0.5580 - val_loss: 2.4715 - val_rpn_class_loss: 0.2725 - val_rpn_bbox_loss: 0.7743 - val_mrcnn_class_loss: 0.4360 - val_mrcnn_bbox_loss: 0.4634 - val_mrcnn_mask_loss: 0.5253\n",
      "Epoch 4/10\n",
      "300/300 [==============================] - 748s 2s/step - loss: 2.6939 - rpn_class_loss: 0.3584 - rpn_bbox_loss: 0.8335 - mrcnn_class_loss: 0.4394 - mrcnn_bbox_loss: 0.5201 - mrcnn_mask_loss: 0.5425 - val_loss: 2.4180 - val_rpn_class_loss: 0.2617 - val_rpn_bbox_loss: 0.7796 - val_mrcnn_class_loss: 0.4119 - val_mrcnn_bbox_loss: 0.4480 - val_mrcnn_mask_loss: 0.5168\n",
      "Epoch 5/10\n",
      "300/300 [==============================] - 752s 3s/step - loss: 2.6036 - rpn_class_loss: 0.3473 - rpn_bbox_loss: 0.8001 - mrcnn_class_loss: 0.4289 - mrcnn_bbox_loss: 0.4946 - mrcnn_mask_loss: 0.5327 - val_loss: 2.2559 - val_rpn_class_loss: 0.2309 - val_rpn_bbox_loss: 0.7277 - val_mrcnn_class_loss: 0.3827 - val_mrcnn_bbox_loss: 0.4140 - val_mrcnn_mask_loss: 0.5006\n",
      "Epoch 6/10\n",
      "300/300 [==============================] - 756s 3s/step - loss: 2.5212 - rpn_class_loss: 0.3293 - rpn_bbox_loss: 0.7770 - mrcnn_class_loss: 0.4177 - mrcnn_bbox_loss: 0.4768 - mrcnn_mask_loss: 0.5203 - val_loss: 2.1621 - val_rpn_class_loss: 0.2269 - val_rpn_bbox_loss: 0.7048 - val_mrcnn_class_loss: 0.3765 - val_mrcnn_bbox_loss: 0.3776 - val_mrcnn_mask_loss: 0.4764\n",
      "Epoch 7/10\n",
      "300/300 [==============================] - 744s 2s/step - loss: 2.4439 - rpn_class_loss: 0.3149 - rpn_bbox_loss: 0.7516 - mrcnn_class_loss: 0.4079 - mrcnn_bbox_loss: 0.4551 - mrcnn_mask_loss: 0.5143 - val_loss: 2.1146 - val_rpn_class_loss: 0.2222 - val_rpn_bbox_loss: 0.6425 - val_mrcnn_class_loss: 0.3839 - val_mrcnn_bbox_loss: 0.3790 - val_mrcnn_mask_loss: 0.4871\n",
      "Epoch 8/10\n",
      "300/300 [==============================] - 751s 3s/step - loss: 2.4154 - rpn_class_loss: 0.3104 - rpn_bbox_loss: 0.7388 - mrcnn_class_loss: 0.4081 - mrcnn_bbox_loss: 0.4531 - mrcnn_mask_loss: 0.5050 - val_loss: 2.0478 - val_rpn_class_loss: 0.2064 - val_rpn_bbox_loss: 0.6379 - val_mrcnn_class_loss: 0.3695 - val_mrcnn_bbox_loss: 0.3634 - val_mrcnn_mask_loss: 0.4705\n",
      "Epoch 9/10\n",
      "300/300 [==============================] - 741s 2s/step - loss: 2.3496 - rpn_class_loss: 0.2970 - rpn_bbox_loss: 0.7188 - mrcnn_class_loss: 0.3977 - mrcnn_bbox_loss: 0.4351 - mrcnn_mask_loss: 0.5010 - val_loss: 2.0916 - val_rpn_class_loss: 0.2213 - val_rpn_bbox_loss: 0.6136 - val_mrcnn_class_loss: 0.3561 - val_mrcnn_bbox_loss: 0.3670 - val_mrcnn_mask_loss: 0.5336\n",
      "Epoch 10/10\n",
      "300/300 [==============================] - 737s 2s/step - loss: 2.2727 - rpn_class_loss: 0.2880 - rpn_bbox_loss: 0.6967 - mrcnn_class_loss: 0.3819 - mrcnn_bbox_loss: 0.4165 - mrcnn_mask_loss: 0.4896 - val_loss: 1.9406 - val_rpn_class_loss: 0.1952 - val_rpn_bbox_loss: 0.5823 - val_mrcnn_class_loss: 0.3681 - val_mrcnn_bbox_loss: 0.3344 - val_mrcnn_mask_loss: 0.4605\n",
      "Last trained model path: /home/ubuntu/github/MaskRCNN/logs/cell20191219T1724/mask_rcnn_cell_0010.h5\n"
     ]
    }
   ],
   "source": [
    "#Run \"tensorboard --logdir logs/\" in terminal to visualize results\n",
    "#Default Port #: 6006\n",
    "\n",
    "model.train(dataset_train, dataset_val,\n",
    "            learning_rate=config.LEARNING_RATE, \n",
    "            epochs=10,augmentation=augmentation,\n",
    "            layers='heads') #all heads\n",
    "\n",
    "model_path = model.find_last()\n",
    "print(\"Last trained model path: \" + str(model_path))"
   ]
  },
  {
   "cell_type": "markdown",
   "metadata": {
    "button": false,
    "deletable": true,
    "new_sheet": false,
    "run_control": {
     "read_only": false
    }
   },
   "source": [
    "### Train on all layers"
   ]
  },
  {
   "cell_type": "code",
   "execution_count": 14,
   "metadata": {
    "button": false,
    "collapsed": false,
    "deletable": true,
    "jupyter": {
     "outputs_hidden": false
    },
    "new_sheet": false,
    "run_control": {
     "read_only": false
    }
   },
   "outputs": [
    {
     "name": "stdout",
     "output_type": "stream",
     "text": [
      "\n",
      "Starting at epoch 10. LR=0.001\n",
      "\n",
      "Checkpoint Path: /home/ubuntu/github/MaskRCNN/logs/cell20191219T1724/mask_rcnn_cell_{epoch:04d}.h5\n",
      "Selecting layers to train\n",
      "conv1                  (Conv2D)\n",
      "bn_conv1               (BatchNorm)\n",
      "res2a_branch2a         (Conv2D)\n",
      "bn2a_branch2a          (BatchNorm)\n",
      "res2a_branch2b         (Conv2D)\n",
      "bn2a_branch2b          (BatchNorm)\n",
      "res2a_branch2c         (Conv2D)\n",
      "res2a_branch1          (Conv2D)\n",
      "bn2a_branch2c          (BatchNorm)\n",
      "bn2a_branch1           (BatchNorm)\n",
      "res2b_branch2a         (Conv2D)\n",
      "bn2b_branch2a          (BatchNorm)\n",
      "res2b_branch2b         (Conv2D)\n",
      "bn2b_branch2b          (BatchNorm)\n",
      "res2b_branch2c         (Conv2D)\n",
      "bn2b_branch2c          (BatchNorm)\n",
      "res2c_branch2a         (Conv2D)\n",
      "bn2c_branch2a          (BatchNorm)\n",
      "res2c_branch2b         (Conv2D)\n",
      "bn2c_branch2b          (BatchNorm)\n",
      "res2c_branch2c         (Conv2D)\n",
      "bn2c_branch2c          (BatchNorm)\n",
      "res3a_branch2a         (Conv2D)\n",
      "bn3a_branch2a          (BatchNorm)\n",
      "res3a_branch2b         (Conv2D)\n",
      "bn3a_branch2b          (BatchNorm)\n",
      "res3a_branch2c         (Conv2D)\n",
      "res3a_branch1          (Conv2D)\n",
      "bn3a_branch2c          (BatchNorm)\n",
      "bn3a_branch1           (BatchNorm)\n",
      "res3b_branch2a         (Conv2D)\n",
      "bn3b_branch2a          (BatchNorm)\n",
      "res3b_branch2b         (Conv2D)\n",
      "bn3b_branch2b          (BatchNorm)\n",
      "res3b_branch2c         (Conv2D)\n",
      "bn3b_branch2c          (BatchNorm)\n",
      "res3c_branch2a         (Conv2D)\n",
      "bn3c_branch2a          (BatchNorm)\n",
      "res3c_branch2b         (Conv2D)\n",
      "bn3c_branch2b          (BatchNorm)\n",
      "res3c_branch2c         (Conv2D)\n",
      "bn3c_branch2c          (BatchNorm)\n",
      "res3d_branch2a         (Conv2D)\n",
      "bn3d_branch2a          (BatchNorm)\n",
      "res3d_branch2b         (Conv2D)\n",
      "bn3d_branch2b          (BatchNorm)\n",
      "res3d_branch2c         (Conv2D)\n",
      "bn3d_branch2c          (BatchNorm)\n",
      "res4a_branch2a         (Conv2D)\n",
      "bn4a_branch2a          (BatchNorm)\n",
      "res4a_branch2b         (Conv2D)\n",
      "bn4a_branch2b          (BatchNorm)\n",
      "res4a_branch2c         (Conv2D)\n",
      "res4a_branch1          (Conv2D)\n",
      "bn4a_branch2c          (BatchNorm)\n",
      "bn4a_branch1           (BatchNorm)\n",
      "res4b_branch2a         (Conv2D)\n",
      "bn4b_branch2a          (BatchNorm)\n",
      "res4b_branch2b         (Conv2D)\n",
      "bn4b_branch2b          (BatchNorm)\n",
      "res4b_branch2c         (Conv2D)\n",
      "bn4b_branch2c          (BatchNorm)\n",
      "res4c_branch2a         (Conv2D)\n",
      "bn4c_branch2a          (BatchNorm)\n",
      "res4c_branch2b         (Conv2D)\n",
      "bn4c_branch2b          (BatchNorm)\n",
      "res4c_branch2c         (Conv2D)\n",
      "bn4c_branch2c          (BatchNorm)\n",
      "res4d_branch2a         (Conv2D)\n",
      "bn4d_branch2a          (BatchNorm)\n",
      "res4d_branch2b         (Conv2D)\n",
      "bn4d_branch2b          (BatchNorm)\n",
      "res4d_branch2c         (Conv2D)\n",
      "bn4d_branch2c          (BatchNorm)\n",
      "res4e_branch2a         (Conv2D)\n",
      "bn4e_branch2a          (BatchNorm)\n",
      "res4e_branch2b         (Conv2D)\n",
      "bn4e_branch2b          (BatchNorm)\n",
      "res4e_branch2c         (Conv2D)\n",
      "bn4e_branch2c          (BatchNorm)\n",
      "res4f_branch2a         (Conv2D)\n",
      "bn4f_branch2a          (BatchNorm)\n",
      "res4f_branch2b         (Conv2D)\n",
      "bn4f_branch2b          (BatchNorm)\n",
      "res4f_branch2c         (Conv2D)\n",
      "bn4f_branch2c          (BatchNorm)\n",
      "res5a_branch2a         (Conv2D)\n",
      "bn5a_branch2a          (BatchNorm)\n",
      "res5a_branch2b         (Conv2D)\n",
      "bn5a_branch2b          (BatchNorm)\n",
      "res5a_branch2c         (Conv2D)\n",
      "res5a_branch1          (Conv2D)\n",
      "bn5a_branch2c          (BatchNorm)\n",
      "bn5a_branch1           (BatchNorm)\n",
      "res5b_branch2a         (Conv2D)\n",
      "bn5b_branch2a          (BatchNorm)\n",
      "res5b_branch2b         (Conv2D)\n",
      "bn5b_branch2b          (BatchNorm)\n",
      "res5b_branch2c         (Conv2D)\n",
      "bn5b_branch2c          (BatchNorm)\n",
      "res5c_branch2a         (Conv2D)\n",
      "bn5c_branch2a          (BatchNorm)\n",
      "res5c_branch2b         (Conv2D)\n",
      "bn5c_branch2b          (BatchNorm)\n",
      "res5c_branch2c         (Conv2D)\n",
      "bn5c_branch2c          (BatchNorm)\n",
      "fpn_c5p5               (Conv2D)\n",
      "fpn_c4p4               (Conv2D)\n",
      "fpn_c3p3               (Conv2D)\n",
      "fpn_c2p2               (Conv2D)\n",
      "fpn_p5                 (Conv2D)\n",
      "fpn_p2                 (Conv2D)\n",
      "fpn_p3                 (Conv2D)\n",
      "fpn_p4                 (Conv2D)\n",
      "In model:  rpn_model\n",
      "    rpn_conv_shared        (Conv2D)\n",
      "    rpn_class_raw          (Conv2D)\n",
      "    rpn_bbox_pred          (Conv2D)\n",
      "mrcnn_mask_conv1       (TimeDistributed)\n",
      "mrcnn_mask_bn1         (TimeDistributed)\n",
      "mrcnn_mask_conv2       (TimeDistributed)\n",
      "mrcnn_mask_bn2         (TimeDistributed)\n",
      "mrcnn_class_conv1      (TimeDistributed)\n",
      "mrcnn_class_bn1        (TimeDistributed)\n",
      "mrcnn_mask_conv3       (TimeDistributed)\n",
      "mrcnn_mask_bn3         (TimeDistributed)\n",
      "mrcnn_class_conv2      (TimeDistributed)\n",
      "mrcnn_class_bn2        (TimeDistributed)\n",
      "mrcnn_mask_conv4       (TimeDistributed)\n",
      "mrcnn_mask_bn4         (TimeDistributed)\n",
      "mrcnn_bbox_fc          (TimeDistributed)\n",
      "mrcnn_mask_deconv      (TimeDistributed)\n",
      "mrcnn_class_logits     (TimeDistributed)\n",
      "mrcnn_mask             (TimeDistributed)\n",
      "Epoch 11/20\n",
      "300/300 [==============================] - 785s 3s/step - loss: 2.2766 - rpn_class_loss: 0.2851 - rpn_bbox_loss: 0.6939 - mrcnn_class_loss: 0.3856 - mrcnn_bbox_loss: 0.4272 - mrcnn_mask_loss: 0.4847 - val_loss: 1.9824 - val_rpn_class_loss: 0.2303 - val_rpn_bbox_loss: 0.5405 - val_mrcnn_class_loss: 0.3637 - val_mrcnn_bbox_loss: 0.3586 - val_mrcnn_mask_loss: 0.4893\n",
      "Epoch 12/20\n",
      "300/300 [==============================] - 745s 2s/step - loss: 2.1796 - rpn_class_loss: 0.2694 - rpn_bbox_loss: 0.6623 - mrcnn_class_loss: 0.3695 - mrcnn_bbox_loss: 0.4076 - mrcnn_mask_loss: 0.4708 - val_loss: 1.8569 - val_rpn_class_loss: 0.2148 - val_rpn_bbox_loss: 0.5312 - val_mrcnn_class_loss: 0.3121 - val_mrcnn_bbox_loss: 0.3260 - val_mrcnn_mask_loss: 0.4727\n",
      "Epoch 13/20\n",
      "300/300 [==============================] - 745s 2s/step - loss: 2.1209 - rpn_class_loss: 0.2598 - rpn_bbox_loss: 0.6448 - mrcnn_class_loss: 0.3607 - mrcnn_bbox_loss: 0.3930 - mrcnn_mask_loss: 0.4626 - val_loss: 1.8232 - val_rpn_class_loss: 0.2184 - val_rpn_bbox_loss: 0.5283 - val_mrcnn_class_loss: 0.2853 - val_mrcnn_bbox_loss: 0.3321 - val_mrcnn_mask_loss: 0.4590\n",
      "Epoch 14/20\n",
      "300/300 [==============================] - 736s 2s/step - loss: 2.0611 - rpn_class_loss: 0.2469 - rpn_bbox_loss: 0.6291 - mrcnn_class_loss: 0.3490 - mrcnn_bbox_loss: 0.3807 - mrcnn_mask_loss: 0.4554 - val_loss: 1.7262 - val_rpn_class_loss: 0.1966 - val_rpn_bbox_loss: 0.5040 - val_mrcnn_class_loss: 0.2987 - val_mrcnn_bbox_loss: 0.2869 - val_mrcnn_mask_loss: 0.4401\n",
      "Epoch 15/20\n",
      "300/300 [==============================] - 743s 2s/step - loss: 2.0275 - rpn_class_loss: 0.2435 - rpn_bbox_loss: 0.6173 - mrcnn_class_loss: 0.3422 - mrcnn_bbox_loss: 0.3744 - mrcnn_mask_loss: 0.4501 - val_loss: 1.7293 - val_rpn_class_loss: 0.1830 - val_rpn_bbox_loss: 0.5034 - val_mrcnn_class_loss: 0.2925 - val_mrcnn_bbox_loss: 0.3079 - val_mrcnn_mask_loss: 0.4425\n",
      "Epoch 16/20\n",
      "300/300 [==============================] - 748s 2s/step - loss: 2.0047 - rpn_class_loss: 0.2376 - rpn_bbox_loss: 0.6105 - mrcnn_class_loss: 0.3373 - mrcnn_bbox_loss: 0.3727 - mrcnn_mask_loss: 0.4466 - val_loss: 1.6712 - val_rpn_class_loss: 0.1881 - val_rpn_bbox_loss: 0.4789 - val_mrcnn_class_loss: 0.2850 - val_mrcnn_bbox_loss: 0.2913 - val_mrcnn_mask_loss: 0.4278\n",
      "Epoch 17/20\n",
      "300/300 [==============================] - 752s 3s/step - loss: 1.9486 - rpn_class_loss: 0.2301 - rpn_bbox_loss: 0.5917 - mrcnn_class_loss: 0.3303 - mrcnn_bbox_loss: 0.3562 - mrcnn_mask_loss: 0.4402 - val_loss: 1.6574 - val_rpn_class_loss: 0.1831 - val_rpn_bbox_loss: 0.4663 - val_mrcnn_class_loss: 0.3000 - val_mrcnn_bbox_loss: 0.2867 - val_mrcnn_mask_loss: 0.4212\n",
      "Epoch 18/20\n",
      "300/300 [==============================] - 746s 2s/step - loss: 1.9898 - rpn_class_loss: 0.2343 - rpn_bbox_loss: 0.6014 - mrcnn_class_loss: 0.3384 - mrcnn_bbox_loss: 0.3738 - mrcnn_mask_loss: 0.4419 - val_loss: 1.8769 - val_rpn_class_loss: 0.1965 - val_rpn_bbox_loss: 0.4860 - val_mrcnn_class_loss: 0.3675 - val_mrcnn_bbox_loss: 0.3882 - val_mrcnn_mask_loss: 0.4386\n",
      "Epoch 19/20\n",
      "300/300 [==============================] - 736s 2s/step - loss: 1.9285 - rpn_class_loss: 0.2267 - rpn_bbox_loss: 0.5818 - mrcnn_class_loss: 0.3331 - mrcnn_bbox_loss: 0.3550 - mrcnn_mask_loss: 0.4320 - val_loss: 1.5901 - val_rpn_class_loss: 0.1637 - val_rpn_bbox_loss: 0.4690 - val_mrcnn_class_loss: 0.2713 - val_mrcnn_bbox_loss: 0.2582 - val_mrcnn_mask_loss: 0.4278\n",
      "Epoch 20/20\n",
      "300/300 [==============================] - 740s 2s/step - loss: 1.8444 - rpn_class_loss: 0.2128 - rpn_bbox_loss: 0.5598 - mrcnn_class_loss: 0.3145 - mrcnn_bbox_loss: 0.3343 - mrcnn_mask_loss: 0.4229 - val_loss: 1.3930 - val_rpn_class_loss: 0.1431 - val_rpn_bbox_loss: 0.4210 - val_mrcnn_class_loss: 0.2415 - val_mrcnn_bbox_loss: 0.2014 - val_mrcnn_mask_loss: 0.3860\n"
     ]
    }
   ],
   "source": [
    "model.train(dataset_train, dataset_val, \n",
    "            learning_rate=config.LEARNING_RATE, \n",
    "            epochs=20,augmentation=augmentation,\n",
    "            layers='all') #all\n",
    "\n"
   ]
  },
  {
   "cell_type": "markdown",
   "metadata": {
    "button": false,
    "deletable": true,
    "new_sheet": false,
    "run_control": {
     "read_only": false
    }
   },
   "source": [
    "### Train on all layers with lower learning rate"
   ]
  },
  {
   "cell_type": "code",
   "execution_count": 17,
   "metadata": {
    "button": false,
    "collapsed": false,
    "deletable": true,
    "jupyter": {
     "outputs_hidden": false
    },
    "new_sheet": false,
    "run_control": {
     "read_only": false
    }
   },
   "outputs": [
    {
     "name": "stdout",
     "output_type": "stream",
     "text": [
      "\n",
      "Starting at epoch 20. LR=0.0001\n",
      "\n",
      "Checkpoint Path: /home/ubuntu/github/MaskRCNN/logs/cell20191219T1724/mask_rcnn_cell_{epoch:04d}.h5\n",
      "Selecting layers to train\n",
      "conv1                  (Conv2D)\n",
      "bn_conv1               (BatchNorm)\n",
      "res2a_branch2a         (Conv2D)\n",
      "bn2a_branch2a          (BatchNorm)\n",
      "res2a_branch2b         (Conv2D)\n",
      "bn2a_branch2b          (BatchNorm)\n",
      "res2a_branch2c         (Conv2D)\n",
      "res2a_branch1          (Conv2D)\n",
      "bn2a_branch2c          (BatchNorm)\n",
      "bn2a_branch1           (BatchNorm)\n",
      "res2b_branch2a         (Conv2D)\n",
      "bn2b_branch2a          (BatchNorm)\n",
      "res2b_branch2b         (Conv2D)\n",
      "bn2b_branch2b          (BatchNorm)\n",
      "res2b_branch2c         (Conv2D)\n",
      "bn2b_branch2c          (BatchNorm)\n",
      "res2c_branch2a         (Conv2D)\n",
      "bn2c_branch2a          (BatchNorm)\n",
      "res2c_branch2b         (Conv2D)\n",
      "bn2c_branch2b          (BatchNorm)\n",
      "res2c_branch2c         (Conv2D)\n",
      "bn2c_branch2c          (BatchNorm)\n",
      "res3a_branch2a         (Conv2D)\n",
      "bn3a_branch2a          (BatchNorm)\n",
      "res3a_branch2b         (Conv2D)\n",
      "bn3a_branch2b          (BatchNorm)\n",
      "res3a_branch2c         (Conv2D)\n",
      "res3a_branch1          (Conv2D)\n",
      "bn3a_branch2c          (BatchNorm)\n",
      "bn3a_branch1           (BatchNorm)\n",
      "res3b_branch2a         (Conv2D)\n",
      "bn3b_branch2a          (BatchNorm)\n",
      "res3b_branch2b         (Conv2D)\n",
      "bn3b_branch2b          (BatchNorm)\n",
      "res3b_branch2c         (Conv2D)\n",
      "bn3b_branch2c          (BatchNorm)\n",
      "res3c_branch2a         (Conv2D)\n",
      "bn3c_branch2a          (BatchNorm)\n",
      "res3c_branch2b         (Conv2D)\n",
      "bn3c_branch2b          (BatchNorm)\n",
      "res3c_branch2c         (Conv2D)\n",
      "bn3c_branch2c          (BatchNorm)\n",
      "res3d_branch2a         (Conv2D)\n",
      "bn3d_branch2a          (BatchNorm)\n",
      "res3d_branch2b         (Conv2D)\n",
      "bn3d_branch2b          (BatchNorm)\n",
      "res3d_branch2c         (Conv2D)\n",
      "bn3d_branch2c          (BatchNorm)\n",
      "res4a_branch2a         (Conv2D)\n",
      "bn4a_branch2a          (BatchNorm)\n",
      "res4a_branch2b         (Conv2D)\n",
      "bn4a_branch2b          (BatchNorm)\n",
      "res4a_branch2c         (Conv2D)\n",
      "res4a_branch1          (Conv2D)\n",
      "bn4a_branch2c          (BatchNorm)\n",
      "bn4a_branch1           (BatchNorm)\n",
      "res4b_branch2a         (Conv2D)\n",
      "bn4b_branch2a          (BatchNorm)\n",
      "res4b_branch2b         (Conv2D)\n",
      "bn4b_branch2b          (BatchNorm)\n",
      "res4b_branch2c         (Conv2D)\n",
      "bn4b_branch2c          (BatchNorm)\n",
      "res4c_branch2a         (Conv2D)\n",
      "bn4c_branch2a          (BatchNorm)\n",
      "res4c_branch2b         (Conv2D)\n",
      "bn4c_branch2b          (BatchNorm)\n",
      "res4c_branch2c         (Conv2D)\n",
      "bn4c_branch2c          (BatchNorm)\n",
      "res4d_branch2a         (Conv2D)\n",
      "bn4d_branch2a          (BatchNorm)\n",
      "res4d_branch2b         (Conv2D)\n",
      "bn4d_branch2b          (BatchNorm)\n",
      "res4d_branch2c         (Conv2D)\n",
      "bn4d_branch2c          (BatchNorm)\n",
      "res4e_branch2a         (Conv2D)\n",
      "bn4e_branch2a          (BatchNorm)\n",
      "res4e_branch2b         (Conv2D)\n",
      "bn4e_branch2b          (BatchNorm)\n",
      "res4e_branch2c         (Conv2D)\n",
      "bn4e_branch2c          (BatchNorm)\n",
      "res4f_branch2a         (Conv2D)\n",
      "bn4f_branch2a          (BatchNorm)\n",
      "res4f_branch2b         (Conv2D)\n",
      "bn4f_branch2b          (BatchNorm)\n",
      "res4f_branch2c         (Conv2D)\n",
      "bn4f_branch2c          (BatchNorm)\n",
      "res5a_branch2a         (Conv2D)\n",
      "bn5a_branch2a          (BatchNorm)\n",
      "res5a_branch2b         (Conv2D)\n",
      "bn5a_branch2b          (BatchNorm)\n",
      "res5a_branch2c         (Conv2D)\n",
      "res5a_branch1          (Conv2D)\n",
      "bn5a_branch2c          (BatchNorm)\n",
      "bn5a_branch1           (BatchNorm)\n",
      "res5b_branch2a         (Conv2D)\n",
      "bn5b_branch2a          (BatchNorm)\n",
      "res5b_branch2b         (Conv2D)\n",
      "bn5b_branch2b          (BatchNorm)\n",
      "res5b_branch2c         (Conv2D)\n",
      "bn5b_branch2c          (BatchNorm)\n",
      "res5c_branch2a         (Conv2D)\n",
      "bn5c_branch2a          (BatchNorm)\n",
      "res5c_branch2b         (Conv2D)\n",
      "bn5c_branch2b          (BatchNorm)\n",
      "res5c_branch2c         (Conv2D)\n",
      "bn5c_branch2c          (BatchNorm)\n",
      "fpn_c5p5               (Conv2D)\n",
      "fpn_c4p4               (Conv2D)\n",
      "fpn_c3p3               (Conv2D)\n",
      "fpn_c2p2               (Conv2D)\n",
      "fpn_p5                 (Conv2D)\n",
      "fpn_p2                 (Conv2D)\n",
      "fpn_p3                 (Conv2D)\n",
      "fpn_p4                 (Conv2D)\n",
      "In model:  rpn_model\n",
      "    rpn_conv_shared        (Conv2D)\n",
      "    rpn_class_raw          (Conv2D)\n",
      "    rpn_bbox_pred          (Conv2D)\n",
      "mrcnn_mask_conv1       (TimeDistributed)\n",
      "mrcnn_mask_bn1         (TimeDistributed)\n",
      "mrcnn_mask_conv2       (TimeDistributed)\n",
      "mrcnn_mask_bn2         (TimeDistributed)\n",
      "mrcnn_class_conv1      (TimeDistributed)\n",
      "mrcnn_class_bn1        (TimeDistributed)\n",
      "mrcnn_mask_conv3       (TimeDistributed)\n",
      "mrcnn_mask_bn3         (TimeDistributed)\n",
      "mrcnn_class_conv2      (TimeDistributed)\n",
      "mrcnn_class_bn2        (TimeDistributed)\n",
      "mrcnn_mask_conv4       (TimeDistributed)\n",
      "mrcnn_mask_bn4         (TimeDistributed)\n",
      "mrcnn_bbox_fc          (TimeDistributed)\n",
      "mrcnn_mask_deconv      (TimeDistributed)\n",
      "mrcnn_class_logits     (TimeDistributed)\n",
      "mrcnn_mask             (TimeDistributed)\n",
      "Epoch 21/30\n",
      "300/300 [==============================] - 778s 3s/step - loss: 1.8139 - rpn_class_loss: 0.2124 - rpn_bbox_loss: 0.5609 - mrcnn_class_loss: 0.3049 - mrcnn_bbox_loss: 0.3201 - mrcnn_mask_loss: 0.4156 - val_loss: 1.5862 - val_rpn_class_loss: 0.1743 - val_rpn_bbox_loss: 0.5192 - val_mrcnn_class_loss: 0.2818 - val_mrcnn_bbox_loss: 0.2238 - val_mrcnn_mask_loss: 0.3871\n",
      "Epoch 22/30\n",
      "300/300 [==============================] - 767s 3s/step - loss: 1.7966 - rpn_class_loss: 0.2104 - rpn_bbox_loss: 0.5534 - mrcnn_class_loss: 0.3033 - mrcnn_bbox_loss: 0.3158 - mrcnn_mask_loss: 0.4137 - val_loss: 1.6261 - val_rpn_class_loss: 0.1764 - val_rpn_bbox_loss: 0.5169 - val_mrcnn_class_loss: 0.2946 - val_mrcnn_bbox_loss: 0.2469 - val_mrcnn_mask_loss: 0.3912\n",
      "Epoch 23/30\n",
      "300/300 [==============================] - 765s 3s/step - loss: 1.7795 - rpn_class_loss: 0.2112 - rpn_bbox_loss: 0.5449 - mrcnn_class_loss: 0.3008 - mrcnn_bbox_loss: 0.3112 - mrcnn_mask_loss: 0.4113 - val_loss: 1.6235 - val_rpn_class_loss: 0.1727 - val_rpn_bbox_loss: 0.5112 - val_mrcnn_class_loss: 0.2988 - val_mrcnn_bbox_loss: 0.2364 - val_mrcnn_mask_loss: 0.4043\n",
      "Epoch 24/30\n",
      "300/300 [==============================] - 759s 3s/step - loss: 1.7640 - rpn_class_loss: 0.2060 - rpn_bbox_loss: 0.5458 - mrcnn_class_loss: 0.2975 - mrcnn_bbox_loss: 0.3046 - mrcnn_mask_loss: 0.4101 - val_loss: 1.5593 - val_rpn_class_loss: 0.1735 - val_rpn_bbox_loss: 0.5077 - val_mrcnn_class_loss: 0.2382 - val_mrcnn_bbox_loss: 0.2439 - val_mrcnn_mask_loss: 0.3960\n",
      "Epoch 25/30\n",
      "300/300 [==============================] - 765s 3s/step - loss: 1.7483 - rpn_class_loss: 0.2055 - rpn_bbox_loss: 0.5376 - mrcnn_class_loss: 0.2946 - mrcnn_bbox_loss: 0.3027 - mrcnn_mask_loss: 0.4079 - val_loss: 1.5700 - val_rpn_class_loss: 0.1708 - val_rpn_bbox_loss: 0.5133 - val_mrcnn_class_loss: 0.2527 - val_mrcnn_bbox_loss: 0.2457 - val_mrcnn_mask_loss: 0.3873\n",
      "Epoch 26/30\n",
      "300/300 [==============================] - 762s 3s/step - loss: 1.7502 - rpn_class_loss: 0.2054 - rpn_bbox_loss: 0.5396 - mrcnn_class_loss: 0.2932 - mrcnn_bbox_loss: 0.3032 - mrcnn_mask_loss: 0.4087 - val_loss: 1.5687 - val_rpn_class_loss: 0.1759 - val_rpn_bbox_loss: 0.5052 - val_mrcnn_class_loss: 0.2663 - val_mrcnn_bbox_loss: 0.2368 - val_mrcnn_mask_loss: 0.3845\n",
      "Epoch 27/30\n",
      "300/300 [==============================] - 753s 3s/step - loss: 1.7081 - rpn_class_loss: 0.1979 - rpn_bbox_loss: 0.5302 - mrcnn_class_loss: 0.2868 - mrcnn_bbox_loss: 0.2904 - mrcnn_mask_loss: 0.4027 - val_loss: 1.5793 - val_rpn_class_loss: 0.1700 - val_rpn_bbox_loss: 0.5072 - val_mrcnn_class_loss: 0.2633 - val_mrcnn_bbox_loss: 0.2382 - val_mrcnn_mask_loss: 0.4005\n",
      "Epoch 28/30\n",
      "300/300 [==============================] - 760s 3s/step - loss: 1.7742 - rpn_class_loss: 0.2078 - rpn_bbox_loss: 0.5424 - mrcnn_class_loss: 0.3015 - mrcnn_bbox_loss: 0.3130 - mrcnn_mask_loss: 0.4095 - val_loss: 1.5665 - val_rpn_class_loss: 0.1719 - val_rpn_bbox_loss: 0.5157 - val_mrcnn_class_loss: 0.2712 - val_mrcnn_bbox_loss: 0.2195 - val_mrcnn_mask_loss: 0.3882\n",
      "Epoch 29/30\n",
      "300/300 [==============================] - 756s 3s/step - loss: 1.7394 - rpn_class_loss: 0.2019 - rpn_bbox_loss: 0.5424 - mrcnn_class_loss: 0.2900 - mrcnn_bbox_loss: 0.2975 - mrcnn_mask_loss: 0.4077 - val_loss: 1.5258 - val_rpn_class_loss: 0.1710 - val_rpn_bbox_loss: 0.4994 - val_mrcnn_class_loss: 0.2650 - val_mrcnn_bbox_loss: 0.2111 - val_mrcnn_mask_loss: 0.3792\n",
      "Epoch 30/30\n",
      "300/300 [==============================] - 751s 3s/step - loss: 1.7041 - rpn_class_loss: 0.1972 - rpn_bbox_loss: 0.5267 - mrcnn_class_loss: 0.2881 - mrcnn_bbox_loss: 0.2884 - mrcnn_mask_loss: 0.4037 - val_loss: 1.5638 - val_rpn_class_loss: 0.1678 - val_rpn_bbox_loss: 0.5038 - val_mrcnn_class_loss: 0.2719 - val_mrcnn_bbox_loss: 0.2255 - val_mrcnn_mask_loss: 0.3948\n"
     ]
    }
   ],
   "source": [
    "model.train(dataset_train, dataset_val, \n",
    "            learning_rate=config.LEARNING_RATE/10, \n",
    "            epochs=30,augmentation=augmentation,\n",
    "            layers='all') #all\n",
    "\n",
    "\n"
   ]
  },
  {
   "cell_type": "code",
   "execution_count": null,
   "metadata": {
    "button": false,
    "collapsed": true,
    "deletable": true,
    "jupyter": {
     "outputs_hidden": true
    },
    "new_sheet": false,
    "run_control": {
     "read_only": false
    }
   },
   "outputs": [],
   "source": []
  },
  {
   "cell_type": "code",
   "execution_count": null,
   "metadata": {
    "button": false,
    "collapsed": true,
    "deletable": true,
    "jupyter": {
     "outputs_hidden": true
    },
    "new_sheet": false,
    "run_control": {
     "read_only": false
    }
   },
   "outputs": [],
   "source": []
  }
 ],
 "metadata": {
  "kernelspec": {
   "display_name": "tensorflow36",
   "language": "python",
   "name": "tensorflow36"
  },
  "language_info": {
   "codemirror_mode": {
    "name": "ipython",
    "version": 3
   },
   "file_extension": ".py",
   "mimetype": "text/x-python",
   "name": "python",
   "nbconvert_exporter": "python",
   "pygments_lexer": "ipython3",
   "version": "3.6.8"
  }
 },
 "nbformat": 4,
 "nbformat_minor": 4
}
